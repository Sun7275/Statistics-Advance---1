{
 "cells": [
  {
   "cell_type": "code",
   "execution_count": 1,
   "metadata": {},
   "outputs": [],
   "source": [
    "#1- Explain the properties of the F-distribution?\n",
    "\n",
    "#F-distribution is a continuous probability distribution that arises frequently in the context of variance analysis, particularly in ANOVA and regression analysis\n",
    "\n",
    "#Skewed Distribution: The F-distribution is positively skewed, which means it has a long tail on the right side.\n",
    "\n",
    "#Non-negative Values: Values of the F-distribution are always non-negative\n",
    "\n",
    "#Shape Dependence: The shape of the F-distribution depends on two parameters\n",
    "#Mean and Variance\n",
    "#Asymptotic Behavior"
   ]
  },
  {
   "cell_type": "code",
   "execution_count": 2,
   "metadata": {},
   "outputs": [],
   "source": [
    "#2- In which types of statistical tests is the F-distribution used, and why is it appropriate for these tests?\n",
    "\n",
    "#The F-distribution is used in several statistical tests, primarily those involving variances:-\n",
    "\n",
    "#Analysis of Variance (ANOVA): Used to compare the variances among group.\n",
    "\n",
    "#Regression Analysis: Used in comparing multiple regression models. The F-test checks if a significant relationship exists between the dependent and independent variables by comparing the model's explained variance to the unexplained variance\n",
    "#Equality of Variances Test: Tests like Levene’s test use the F-distribution to compare variances across different samples to see if they are equa\n"
   ]
  },
  {
   "cell_type": "code",
   "execution_count": 3,
   "metadata": {},
   "outputs": [],
   "source": [
    "#3- What are the key assumptions required for conducting an F-test to compare the variances of two populations?\n",
    "\n",
    "#Independence: The samples must be independent of each other.\n",
    "\n",
    "#Normally Distributed Populations: Both populations should follow a normal distribution.\n",
    "\n",
    "#Homogeneity of Variance: The variances in each population should be similar. The F-test is robust to deviations from this assumption but works best when this is true.\n",
    "\n",
    "#Random Sampling: The data should be collected through random sampling from the populations.\n"
   ]
  },
  {
   "cell_type": "code",
   "execution_count": 4,
   "metadata": {},
   "outputs": [],
   "source": [
    "#4- What is the purpose of ANOVA, and how does it differ from a t-test? \n",
    "\n",
    "#ANOVA (Analysis of Variance) is used to compare the means of three or more groups. The primary goal is to see if there are statistically significant differences between the group means.\n",
    "\n",
    "#t-tests, on the other hand, are used to compare the means of two groups.\n",
    "\n",
    "# Main difference are:\n",
    "\n",
    "#Number of Groups: ANOVA can handle three or more groups, while t-tests are for comparing two groups.\n",
    "\n",
    "#Applications: ANOVA is used for more complex situations where multiple groups are involved, whereas t-tests are simpler and used for pairwise comparisons.\n"
   ]
  },
  {
   "cell_type": "code",
   "execution_count": 5,
   "metadata": {},
   "outputs": [],
   "source": [
    "#5- Explain when and why you would use a one-way ANOVA instead of multiple t-tests when comparing more than two groups.\n",
    "\n",
    "#Using a one-way ANOVA is ideal when comparing more than two groups to avoid the cumulative error that happens when you conduct multiple t-tests.\n",
    "# Each t-test increases the chance of making a Type I error (false positive), which can distort the overall results.\n",
    "\n",
    "#One-way ANOVA assesses all groups simultaneously with a single test, ensuring the error rate remains controlled.\n",
    "\n",
    "#It’s also more efficient and straightforward than running several t-tests, which is handy for large datasets.\n",
    "\n",
    "#Note:- one-way ANOVA keeps your analysis cleaner and more reliable when dealing with more than two groups."
   ]
  },
  {
   "cell_type": "code",
   "execution_count": 6,
   "metadata": {},
   "outputs": [],
   "source": [
    "#6- Explain how variance is partitioned in ANOVA into between-group variance and within-group variance.How does this partitioning contribute to the calculation of the F-statistic?\n",
    "\n",
    "#In ANOVA, we partition the total variance into two components: between-group variance and within-group variance.\n",
    "\n",
    "##Between-Group Variance: \n",
    "# This measures the variation due to the interaction between the different groups.\n",
    "#It's calculated by comparing the group means to the overall mean.\n",
    "#If the group means are far from the overall mean, the between-group variance will be large, indicating significant differences between groups.\n",
    "\n",
    "##Within-Group Variance: This measures the variation within each group.\n",
    "# It’s the average of the variances within each group. \n",
    "# If the data points within each group are close to the group mean, the within-group variance will be small.\n"
   ]
  },
  {
   "cell_type": "code",
   "execution_count": 7,
   "metadata": {},
   "outputs": [],
   "source": [
    "#7- Compare the classical (frequentist) approach to ANOVA with the Bayesian approach. What are the key differences in terms of how they handle uncertainty, parameter estimation, and hypothesis testing?\n",
    "\n",
    "#Frequentist (Classical) Approach:\n",
    "#Uncertainty: Uncertainty is handled through confidence intervals and p-values. The results are interpreted as long-run frequencies of outcomes.\n",
    "\n",
    "#Parameter Estimation: Parameters are estimated using sample data, typically through maximum likelihood estimation. The estimates are fixed once obtained\n",
    "\n",
    "#Hypothesis Testing: Relies on null and alternative hypotheses. Uses p-values to determine the likelihood of observing data under the null hypothesis.\n",
    "\n",
    "##Bayesian Approach:\n",
    "#Uncertainty: Uncertainty is incorporated directly into the model through probability distributions. Every parameter is treated as a random variable with its own distribution\n",
    "\n",
    "#Parameter Estimation: Parameters are estimated by combining prior distributions (representing previous knowledge) with the likelihood of the observed data.\n",
    "\n",
    "#Hypothesis Testing: Hypothesis testing is conducted using posterior probabilities\n"
   ]
  },
  {
   "cell_type": "code",
   "execution_count": 8,
   "metadata": {},
   "outputs": [
    {
     "name": "stdout",
     "output_type": "stream",
     "text": [
      "F-statistic: 2.089171974522293\n",
      "p-value: 0.7534757004973305\n"
     ]
    }
   ],
   "source": [
    "#8- Question: You have two sets of data representing the incomes of two different professions1\n",
    "# Profession A: [48, 52, 55, 60, 62]\n",
    "# Profession B: [45, 50, 55, 52, 47] Perform an F-test to determine if the variances of the two professions'incomes are equal. What are your conclusions based on the F-test?\n",
    "\n",
    "#Task: Use Python to calculate the F-statistic and p-value for the given data.\n",
    "\n",
    "#Objective: Gain experience in performing F-tests and interpreting the results in terms of variance comparison.\n",
    "\n",
    "\n",
    "import numpy as np\n",
    "from scipy.stats import f\n",
    "\n",
    "# Data\n",
    "profession_A = [48, 52, 55, 60, 62]\n",
    "profession_B = [45, 50, 55, 52, 47]\n",
    "\n",
    "# Calculate variances\n",
    "var_A = np.var(profession_A, ddof=1)\n",
    "var_B = np.var(profession_B, ddof=1)\n",
    "\n",
    "# F-statistic\n",
    "F = var_A / var_B\n",
    "\n",
    "# Degrees of freedom\n",
    "df1 = len(profession_A) - 1\n",
    "df2 = len(profession_B) - 1\n",
    "\n",
    "# p-value\n",
    "p_value = f.cdf(F, df1, df2)\n",
    "\n",
    "print(\"F-statistic:\", F)\n",
    "print(\"p-value:\", p_value)\n"
   ]
  },
  {
   "cell_type": "code",
   "execution_count": 9,
   "metadata": {},
   "outputs": [
    {
     "name": "stdout",
     "output_type": "stream",
     "text": [
      "F-statistic: 67.87330316742101\n",
      "p-value: 2.8706641879370266e-07\n"
     ]
    }
   ],
   "source": [
    "#9-  Question: Conduct a one-way ANOVA to test whether there are any statistically significant differences in average heights between three different regions with the following data1\n",
    "# Region A: [160, 162, 165, 158, 164]\n",
    "# Region B: [172, 175, 170, 168, 174]\n",
    "# Region C: [180, 182, 179, 185, 183]\n",
    "# Task: Write Python code to perform the one-way ANOVA and interpret the results\n",
    "# Objective: Learn how to perform one-way ANOVA using Python and interpret F-statistic and p-value.\n",
    "\n",
    "\n",
    "\n",
    "import numpy as np\n",
    "from scipy import stats\n",
    "\n",
    "# Data\n",
    "region_A = [160, 162, 165, 158, 164]\n",
    "region_B = [172, 175, 170, 168, 174]\n",
    "region_C = [180, 182, 179, 185, 183]\n",
    "\n",
    "# Perform one-way ANOVA\n",
    "f_statistic, p_value = stats.f_oneway(region_A, region_B, region_C)\n",
    "\n",
    "print(\"F-statistic:\", f_statistic)\n",
    "print(\"p-value:\", p_value)\n"
   ]
  },
  {
   "cell_type": "code",
   "execution_count": null,
   "metadata": {},
   "outputs": [],
   "source": []
  }
 ],
 "metadata": {
  "kernelspec": {
   "display_name": "Python 3",
   "language": "python",
   "name": "python3"
  },
  "language_info": {
   "codemirror_mode": {
    "name": "ipython",
    "version": 3
   },
   "file_extension": ".py",
   "mimetype": "text/x-python",
   "name": "python",
   "nbconvert_exporter": "python",
   "pygments_lexer": "ipython3",
   "version": "3.12.4"
  }
 },
 "nbformat": 4,
 "nbformat_minor": 2
}
